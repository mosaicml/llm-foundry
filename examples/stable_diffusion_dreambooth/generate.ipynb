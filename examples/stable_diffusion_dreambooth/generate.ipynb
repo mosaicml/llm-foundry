{
 "cells": [
  {
   "cell_type": "code",
   "execution_count": null,
   "metadata": {},
   "outputs": [],
   "source": [
    "from omegaconf import OmegaConf\n",
    "from model import build_stable_diffusion_model\n",
    "import torch\n",
    "import torchvision.transforms.functional as F\n",
    "from torchvision.utils import make_grid"
   ]
  },
  {
   "cell_type": "code",
   "execution_count": null,
   "metadata": {},
   "outputs": [],
   "source": [
    "config_path = 'yamls/dreambooth.yaml' # to load the correct model architecture\n",
    "checkpoint_path = '' # path to checkpoint\n",
    "# optionally set to mps for local inference on m1 macs\n",
    "device = 'cuda' if torch.cuda.is_available() else 'cpu' "
   ]
  },
  {
   "cell_type": "code",
   "execution_count": null,
   "metadata": {},
   "outputs": [],
   "source": [
    "config = OmegaConf.load(config_path)\n",
    "model = build_stable_diffusion_model(\n",
    "    model_name_or_path=config.model.name)"
   ]
  },
  {
   "cell_type": "code",
   "execution_count": null,
   "metadata": {},
   "outputs": [],
   "source": [
    "checkpoint = torch.load()\n",
    "model.load_state_dict(checkpoint['state']['model'])\n",
    "model.to(device);"
   ]
  },
  {
   "attachments": {},
   "cell_type": "markdown",
   "metadata": {},
   "source": [
    "# Set prompt"
   ]
  },
  {
   "cell_type": "code",
   "execution_count": null,
   "metadata": {},
   "outputs": [],
   "source": [
    "prompt = 'An oil painting of sks dog in space on a starship'"
   ]
  },
  {
   "cell_type": "code",
   "execution_count": null,
   "metadata": {},
   "outputs": [],
   "source": [
    "prompt = 'An oil painting of sks dog in space on a starship'\n",
    "out = model.generate(prompt=prompt, num_images_per_prompt=1, seed=1337)\n",
    "out = F.to_pil_image(make_grid(out))\n",
    "out"
   ]
  },
  {
   "cell_type": "code",
   "execution_count": null,
   "metadata": {},
   "outputs": [],
   "source": [
    "out = model.generate(prompt=prompt, num_images_per_prompt=1, seed=1337, guidance_scale=20)\n",
    "out = F.to_pil_image(make_grid(out))\n",
    "out"
   ]
  }
 ],
 "metadata": {
  "kernelspec": {
   "display_name": "Python 3",
   "language": "python",
   "name": "python3"
  },
  "language_info": {
   "codemirror_mode": {
    "name": "ipython",
    "version": 3
   },
   "file_extension": ".py",
   "mimetype": "text/x-python",
   "name": "python",
   "nbconvert_exporter": "python",
   "pygments_lexer": "ipython3",
   "version": "3.10.10"
  },
  "orig_nbformat": 4
 },
 "nbformat": 4,
 "nbformat_minor": 2
}
